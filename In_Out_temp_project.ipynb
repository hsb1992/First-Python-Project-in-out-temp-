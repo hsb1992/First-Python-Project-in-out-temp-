{
 "cells": [
  {
   "cell_type": "code",
   "execution_count": 1,
   "id": "1db13f77-3527-4fe4-8a20-1917f90b6df9",
   "metadata": {},
   "outputs": [],
   "source": [
    "import pandas as pd \n",
    "import numpy as np\n"
   ]
  },
  {
   "cell_type": "code",
   "execution_count": 2,
   "id": "88f004d6-f443-4d51-8d2e-bf13d635aa43",
   "metadata": {},
   "outputs": [],
   "source": [
    "df = pd.read_csv(\"IOT-temp.csv\")"
   ]
  },
  {
   "cell_type": "code",
   "execution_count": 3,
   "id": "c24b17cf-716a-41ff-ac51-9ee0c1fae514",
   "metadata": {},
   "outputs": [
    {
     "data": {
      "text/plain": [
       "97606"
      ]
     },
     "execution_count": 3,
     "metadata": {},
     "output_type": "execute_result"
    }
   ],
   "source": [
    "df['out/in'].count()"
   ]
  },
  {
   "cell_type": "code",
   "execution_count": 4,
   "id": "176354c0-da30-4bbd-b5ec-d7f22f43037f",
   "metadata": {},
   "outputs": [
    {
     "name": "stdout",
     "output_type": "stream",
     "text": [
      "<class 'pandas.core.frame.DataFrame'>\n",
      "RangeIndex: 97606 entries, 0 to 97605\n",
      "Data columns (total 5 columns):\n",
      " #   Column      Non-Null Count  Dtype \n",
      "---  ------      --------------  ----- \n",
      " 0   id          97606 non-null  object\n",
      " 1   room_id/id  97606 non-null  object\n",
      " 2   noted_date  97606 non-null  object\n",
      " 3   temp        97606 non-null  int64 \n",
      " 4   out/in      97606 non-null  object\n",
      "dtypes: int64(1), object(4)\n",
      "memory usage: 3.7+ MB\n"
     ]
    }
   ],
   "source": [
    "df.info()"
   ]
  },
  {
   "cell_type": "code",
   "execution_count": 5,
   "id": "43c4056b-3865-4acb-9e44-524edabc8714",
   "metadata": {},
   "outputs": [
    {
     "data": {
      "text/plain": [
       "id            object\n",
       "room_id/id    object\n",
       "noted_date    object\n",
       "temp           int64\n",
       "out/in        object\n",
       "dtype: object"
      ]
     },
     "execution_count": 5,
     "metadata": {},
     "output_type": "execute_result"
    }
   ],
   "source": [
    "df.dtypes"
   ]
  },
  {
   "cell_type": "code",
   "execution_count": 6,
   "id": "a399f1d7-d3ab-49d7-a880-d9790afca5f0",
   "metadata": {},
   "outputs": [
    {
     "data": {
      "text/html": [
       "<div>\n",
       "<style scoped>\n",
       "    .dataframe tbody tr th:only-of-type {\n",
       "        vertical-align: middle;\n",
       "    }\n",
       "\n",
       "    .dataframe tbody tr th {\n",
       "        vertical-align: top;\n",
       "    }\n",
       "\n",
       "    .dataframe thead th {\n",
       "        text-align: right;\n",
       "    }\n",
       "</style>\n",
       "<table border=\"1\" class=\"dataframe\">\n",
       "  <thead>\n",
       "    <tr style=\"text-align: right;\">\n",
       "      <th></th>\n",
       "      <th>id</th>\n",
       "      <th>room_id/id</th>\n",
       "      <th>noted_date</th>\n",
       "      <th>temp</th>\n",
       "      <th>out/in</th>\n",
       "    </tr>\n",
       "  </thead>\n",
       "  <tbody>\n",
       "    <tr>\n",
       "      <th>97601</th>\n",
       "      <td>__export__.temp_log_91076_7fbd08ca</td>\n",
       "      <td>Room Admin</td>\n",
       "      <td>28-07-2018 07:07</td>\n",
       "      <td>31</td>\n",
       "      <td>In</td>\n",
       "    </tr>\n",
       "    <tr>\n",
       "      <th>97602</th>\n",
       "      <td>__export__.temp_log_147733_62c03f31</td>\n",
       "      <td>Room Admin</td>\n",
       "      <td>28-07-2018 07:07</td>\n",
       "      <td>31</td>\n",
       "      <td>In</td>\n",
       "    </tr>\n",
       "    <tr>\n",
       "      <th>97603</th>\n",
       "      <td>__export__.temp_log_100386_84093a68</td>\n",
       "      <td>Room Admin</td>\n",
       "      <td>28-07-2018 07:06</td>\n",
       "      <td>31</td>\n",
       "      <td>In</td>\n",
       "    </tr>\n",
       "    <tr>\n",
       "      <th>97604</th>\n",
       "      <td>__export__.temp_log_123297_4d8e690b</td>\n",
       "      <td>Room Admin</td>\n",
       "      <td>28-07-2018 07:06</td>\n",
       "      <td>31</td>\n",
       "      <td>In</td>\n",
       "    </tr>\n",
       "    <tr>\n",
       "      <th>97605</th>\n",
       "      <td>__export__.temp_log_133741_32958703</td>\n",
       "      <td>Room Admin</td>\n",
       "      <td>28-07-2018 07:06</td>\n",
       "      <td>31</td>\n",
       "      <td>In</td>\n",
       "    </tr>\n",
       "  </tbody>\n",
       "</table>\n",
       "</div>"
      ],
      "text/plain": [
       "                                        id  room_id/id        noted_date  \\\n",
       "97601   __export__.temp_log_91076_7fbd08ca  Room Admin  28-07-2018 07:07   \n",
       "97602  __export__.temp_log_147733_62c03f31  Room Admin  28-07-2018 07:07   \n",
       "97603  __export__.temp_log_100386_84093a68  Room Admin  28-07-2018 07:06   \n",
       "97604  __export__.temp_log_123297_4d8e690b  Room Admin  28-07-2018 07:06   \n",
       "97605  __export__.temp_log_133741_32958703  Room Admin  28-07-2018 07:06   \n",
       "\n",
       "       temp out/in  \n",
       "97601    31     In  \n",
       "97602    31     In  \n",
       "97603    31     In  \n",
       "97604    31     In  \n",
       "97605    31     In  "
      ]
     },
     "execution_count": 6,
     "metadata": {},
     "output_type": "execute_result"
    }
   ],
   "source": [
    "df.tail()"
   ]
  },
  {
   "cell_type": "code",
   "execution_count": 7,
   "id": "31566a24-4dc2-47ef-a0bc-0c10c796dfc2",
   "metadata": {},
   "outputs": [
    {
     "data": {
      "text/html": [
       "<div>\n",
       "<style scoped>\n",
       "    .dataframe tbody tr th:only-of-type {\n",
       "        vertical-align: middle;\n",
       "    }\n",
       "\n",
       "    .dataframe tbody tr th {\n",
       "        vertical-align: top;\n",
       "    }\n",
       "\n",
       "    .dataframe thead th {\n",
       "        text-align: right;\n",
       "    }\n",
       "</style>\n",
       "<table border=\"1\" class=\"dataframe\">\n",
       "  <thead>\n",
       "    <tr style=\"text-align: right;\">\n",
       "      <th></th>\n",
       "      <th>id</th>\n",
       "      <th>room_id/id</th>\n",
       "      <th>noted_date</th>\n",
       "      <th>temp</th>\n",
       "      <th>out/in</th>\n",
       "    </tr>\n",
       "  </thead>\n",
       "  <tbody>\n",
       "    <tr>\n",
       "      <th>0</th>\n",
       "      <td>__export__.temp_log_196134_bd201015</td>\n",
       "      <td>Room Admin</td>\n",
       "      <td>08-12-2018 09:30</td>\n",
       "      <td>29</td>\n",
       "      <td>In</td>\n",
       "    </tr>\n",
       "    <tr>\n",
       "      <th>1</th>\n",
       "      <td>__export__.temp_log_196131_7bca51bc</td>\n",
       "      <td>Room Admin</td>\n",
       "      <td>08-12-2018 09:30</td>\n",
       "      <td>29</td>\n",
       "      <td>In</td>\n",
       "    </tr>\n",
       "    <tr>\n",
       "      <th>2</th>\n",
       "      <td>__export__.temp_log_196127_522915e3</td>\n",
       "      <td>Room Admin</td>\n",
       "      <td>08-12-2018 09:29</td>\n",
       "      <td>41</td>\n",
       "      <td>Out</td>\n",
       "    </tr>\n",
       "    <tr>\n",
       "      <th>3</th>\n",
       "      <td>__export__.temp_log_196128_be0919cf</td>\n",
       "      <td>Room Admin</td>\n",
       "      <td>08-12-2018 09:29</td>\n",
       "      <td>41</td>\n",
       "      <td>Out</td>\n",
       "    </tr>\n",
       "    <tr>\n",
       "      <th>4</th>\n",
       "      <td>__export__.temp_log_196126_d30b72fb</td>\n",
       "      <td>Room Admin</td>\n",
       "      <td>08-12-2018 09:29</td>\n",
       "      <td>31</td>\n",
       "      <td>In</td>\n",
       "    </tr>\n",
       "  </tbody>\n",
       "</table>\n",
       "</div>"
      ],
      "text/plain": [
       "                                    id  room_id/id        noted_date  temp  \\\n",
       "0  __export__.temp_log_196134_bd201015  Room Admin  08-12-2018 09:30    29   \n",
       "1  __export__.temp_log_196131_7bca51bc  Room Admin  08-12-2018 09:30    29   \n",
       "2  __export__.temp_log_196127_522915e3  Room Admin  08-12-2018 09:29    41   \n",
       "3  __export__.temp_log_196128_be0919cf  Room Admin  08-12-2018 09:29    41   \n",
       "4  __export__.temp_log_196126_d30b72fb  Room Admin  08-12-2018 09:29    31   \n",
       "\n",
       "  out/in  \n",
       "0     In  \n",
       "1     In  \n",
       "2    Out  \n",
       "3    Out  \n",
       "4     In  "
      ]
     },
     "execution_count": 7,
     "metadata": {},
     "output_type": "execute_result"
    }
   ],
   "source": [
    "df.head()"
   ]
  },
  {
   "cell_type": "code",
   "execution_count": 8,
   "id": "8271d9b6-f9f1-4cc6-b2aa-026601853133",
   "metadata": {},
   "outputs": [
    {
     "data": {
      "text/plain": [
       "id            0\n",
       "room_id/id    0\n",
       "noted_date    0\n",
       "temp          0\n",
       "out/in        0\n",
       "dtype: int64"
      ]
     },
     "execution_count": 8,
     "metadata": {},
     "output_type": "execute_result"
    }
   ],
   "source": [
    "df.isnull().sum()"
   ]
  },
  {
   "cell_type": "code",
   "execution_count": 9,
   "id": "7d285fb2-081d-47e0-8a7f-a44a0df42ce2",
   "metadata": {},
   "outputs": [],
   "source": [
    "df1 = df.drop(columns='id',axis = 1)"
   ]
  },
  {
   "cell_type": "code",
   "execution_count": 10,
   "id": "73f98c1c-939d-4986-ba90-49a5be1d9d70",
   "metadata": {},
   "outputs": [
    {
     "data": {
      "text/plain": [
       "out/in\n",
       "Out    79.155995\n",
       "In     20.844005\n",
       "Name: count, dtype: float64"
      ]
     },
     "execution_count": 10,
     "metadata": {},
     "output_type": "execute_result"
    }
   ],
   "source": [
    "df1['out/in'].value_counts()/df1['out/in'].count()*100\n",
    "\n",
    "#here we can we in this data majority of temperature nearly 80% of temperature is taken OUT\n",
    "# and nearly 20 % time it is taken inside "
   ]
  },
  {
   "cell_type": "code",
   "execution_count": 11,
   "id": "e44e4a35-7955-4b17-ba8a-1a5146732538",
   "metadata": {},
   "outputs": [
    {
     "data": {
      "text/plain": [
       "Index(['room_id/id', 'noted_date', 'out/in'], dtype='object')"
      ]
     },
     "execution_count": 11,
     "metadata": {},
     "output_type": "execute_result"
    }
   ],
   "source": [
    "\n",
    "df1.select_dtypes(include=object).columns"
   ]
  },
  {
   "cell_type": "code",
   "execution_count": 12,
   "id": "c74912b1-d3f3-4cbc-907e-9ef9b664ba74",
   "metadata": {},
   "outputs": [],
   "source": [
    "df1['noted_date'] = pd.to_datetime(df1['noted_date'],errors='coerce')"
   ]
  },
  {
   "cell_type": "code",
   "execution_count": 13,
   "id": "f3be12ce-5115-469a-8668-1545ac80fd4c",
   "metadata": {},
   "outputs": [
    {
     "name": "stdout",
     "output_type": "stream",
     "text": [
      "<class 'pandas.core.frame.DataFrame'>\n",
      "RangeIndex: 97606 entries, 0 to 97605\n",
      "Data columns (total 4 columns):\n",
      " #   Column      Non-Null Count  Dtype         \n",
      "---  ------      --------------  -----         \n",
      " 0   room_id/id  97606 non-null  object        \n",
      " 1   noted_date  49944 non-null  datetime64[ns]\n",
      " 2   temp        97606 non-null  int64         \n",
      " 3   out/in      97606 non-null  object        \n",
      "dtypes: datetime64[ns](1), int64(1), object(2)\n",
      "memory usage: 3.0+ MB\n"
     ]
    }
   ],
   "source": [
    "df1.info()"
   ]
  },
  {
   "cell_type": "code",
   "execution_count": 14,
   "id": "3361b36c-5d06-40be-beb6-a937660062d1",
   "metadata": {},
   "outputs": [
    {
     "data": {
      "text/plain": [
       "room_id/id        0\n",
       "noted_date    47662\n",
       "temp              0\n",
       "out/in            0\n",
       "dtype: int64"
      ]
     },
     "execution_count": 14,
     "metadata": {},
     "output_type": "execute_result"
    }
   ],
   "source": [
    "df1.isnull().sum()\n",
    "#it is 47662 times\n",
    "#i cannot delete it so i have to think how to do it "
   ]
  },
  {
   "cell_type": "code",
   "execution_count": 15,
   "id": "eae95745-a70d-4ad9-afd0-7f541366dbc9",
   "metadata": {},
   "outputs": [
    {
     "data": {
      "text/html": [
       "<div>\n",
       "<style scoped>\n",
       "    .dataframe tbody tr th:only-of-type {\n",
       "        vertical-align: middle;\n",
       "    }\n",
       "\n",
       "    .dataframe tbody tr th {\n",
       "        vertical-align: top;\n",
       "    }\n",
       "\n",
       "    .dataframe thead th {\n",
       "        text-align: right;\n",
       "    }\n",
       "</style>\n",
       "<table border=\"1\" class=\"dataframe\">\n",
       "  <thead>\n",
       "    <tr style=\"text-align: right;\">\n",
       "      <th></th>\n",
       "      <th>room_id/id</th>\n",
       "      <th>noted_date</th>\n",
       "      <th>temp</th>\n",
       "      <th>out/in</th>\n",
       "    </tr>\n",
       "  </thead>\n",
       "  <tbody>\n",
       "    <tr>\n",
       "      <th>97601</th>\n",
       "      <td>Room Admin</td>\n",
       "      <td>NaT</td>\n",
       "      <td>31</td>\n",
       "      <td>In</td>\n",
       "    </tr>\n",
       "    <tr>\n",
       "      <th>97602</th>\n",
       "      <td>Room Admin</td>\n",
       "      <td>NaT</td>\n",
       "      <td>31</td>\n",
       "      <td>In</td>\n",
       "    </tr>\n",
       "    <tr>\n",
       "      <th>97603</th>\n",
       "      <td>Room Admin</td>\n",
       "      <td>NaT</td>\n",
       "      <td>31</td>\n",
       "      <td>In</td>\n",
       "    </tr>\n",
       "    <tr>\n",
       "      <th>97604</th>\n",
       "      <td>Room Admin</td>\n",
       "      <td>NaT</td>\n",
       "      <td>31</td>\n",
       "      <td>In</td>\n",
       "    </tr>\n",
       "    <tr>\n",
       "      <th>97605</th>\n",
       "      <td>Room Admin</td>\n",
       "      <td>NaT</td>\n",
       "      <td>31</td>\n",
       "      <td>In</td>\n",
       "    </tr>\n",
       "  </tbody>\n",
       "</table>\n",
       "</div>"
      ],
      "text/plain": [
       "       room_id/id noted_date  temp out/in\n",
       "97601  Room Admin        NaT    31     In\n",
       "97602  Room Admin        NaT    31     In\n",
       "97603  Room Admin        NaT    31     In\n",
       "97604  Room Admin        NaT    31     In\n",
       "97605  Room Admin        NaT    31     In"
      ]
     },
     "execution_count": 15,
     "metadata": {},
     "output_type": "execute_result"
    }
   ],
   "source": [
    "df1.tail()\n",
    "#there is NaT (Not a Time) "
   ]
  },
  {
   "cell_type": "code",
   "execution_count": 16,
   "id": "a583d04a-8695-4638-9eaf-15128067bc23",
   "metadata": {},
   "outputs": [],
   "source": [
    "df2 = df.drop(columns=['id','room_id/id'],axis = 1)\n",
    "#made a alike dataframe "
   ]
  },
  {
   "cell_type": "code",
   "execution_count": 17,
   "id": "2e4d619b-5942-4cae-9bb6-5b39f9111937",
   "metadata": {},
   "outputs": [],
   "source": [
    "df2['noted_date'] = pd.to_datetime(df2['noted_date'],errors='coerce',dayfirst=True)\n",
    "#by applying dayfirst is can see i am not getting NaT."
   ]
  },
  {
   "cell_type": "code",
   "execution_count": 18,
   "id": "8c0d97bf-8ed4-4923-bd2c-4171bef57a8c",
   "metadata": {},
   "outputs": [
    {
     "data": {
      "text/html": [
       "<div>\n",
       "<style scoped>\n",
       "    .dataframe tbody tr th:only-of-type {\n",
       "        vertical-align: middle;\n",
       "    }\n",
       "\n",
       "    .dataframe tbody tr th {\n",
       "        vertical-align: top;\n",
       "    }\n",
       "\n",
       "    .dataframe thead th {\n",
       "        text-align: right;\n",
       "    }\n",
       "</style>\n",
       "<table border=\"1\" class=\"dataframe\">\n",
       "  <thead>\n",
       "    <tr style=\"text-align: right;\">\n",
       "      <th></th>\n",
       "      <th>noted_date</th>\n",
       "      <th>temp</th>\n",
       "      <th>out/in</th>\n",
       "    </tr>\n",
       "  </thead>\n",
       "  <tbody>\n",
       "    <tr>\n",
       "      <th>97601</th>\n",
       "      <td>2018-07-28 07:07:00</td>\n",
       "      <td>31</td>\n",
       "      <td>In</td>\n",
       "    </tr>\n",
       "    <tr>\n",
       "      <th>97602</th>\n",
       "      <td>2018-07-28 07:07:00</td>\n",
       "      <td>31</td>\n",
       "      <td>In</td>\n",
       "    </tr>\n",
       "    <tr>\n",
       "      <th>97603</th>\n",
       "      <td>2018-07-28 07:06:00</td>\n",
       "      <td>31</td>\n",
       "      <td>In</td>\n",
       "    </tr>\n",
       "    <tr>\n",
       "      <th>97604</th>\n",
       "      <td>2018-07-28 07:06:00</td>\n",
       "      <td>31</td>\n",
       "      <td>In</td>\n",
       "    </tr>\n",
       "    <tr>\n",
       "      <th>97605</th>\n",
       "      <td>2018-07-28 07:06:00</td>\n",
       "      <td>31</td>\n",
       "      <td>In</td>\n",
       "    </tr>\n",
       "  </tbody>\n",
       "</table>\n",
       "</div>"
      ],
      "text/plain": [
       "               noted_date  temp out/in\n",
       "97601 2018-07-28 07:07:00    31     In\n",
       "97602 2018-07-28 07:07:00    31     In\n",
       "97603 2018-07-28 07:06:00    31     In\n",
       "97604 2018-07-28 07:06:00    31     In\n",
       "97605 2018-07-28 07:06:00    31     In"
      ]
     },
     "execution_count": 18,
     "metadata": {},
     "output_type": "execute_result"
    }
   ],
   "source": [
    "df2.tail()"
   ]
  },
  {
   "cell_type": "code",
   "execution_count": 19,
   "id": "30691bc8-f5fd-42f5-934f-68c455f6b497",
   "metadata": {},
   "outputs": [
    {
     "data": {
      "text/plain": [
       "noted_date    0\n",
       "temp          0\n",
       "out/in        0\n",
       "dtype: int64"
      ]
     },
     "execution_count": 19,
     "metadata": {},
     "output_type": "execute_result"
    }
   ],
   "source": [
    "df2.isna().sum() \n",
    "#no NaT"
   ]
  },
  {
   "cell_type": "code",
   "execution_count": 20,
   "id": "8fb5fe42-8360-4421-afde-1824ec132c30",
   "metadata": {},
   "outputs": [
    {
     "data": {
      "text/plain": [
       "noted_date    datetime64[ns]\n",
       "temp                   int64\n",
       "out/in                object\n",
       "dtype: object"
      ]
     },
     "execution_count": 20,
     "metadata": {},
     "output_type": "execute_result"
    }
   ],
   "source": [
    "df2.dtypes\n",
    "#and object chnaged to datatime "
   ]
  },
  {
   "cell_type": "code",
   "execution_count": 72,
   "id": "a8a52b5e-e356-4c33-8883-4048d43facd5",
   "metadata": {},
   "outputs": [
    {
     "data": {
      "text/plain": [
       "97606"
      ]
     },
     "execution_count": 72,
     "metadata": {},
     "output_type": "execute_result"
    }
   ],
   "source": [
    "df2['temp'].duplicated().count()"
   ]
  },
  {
   "cell_type": "code",
   "execution_count": 50,
   "id": "67242799-59a3-4795-93ed-66b9688f159d",
   "metadata": {},
   "outputs": [
    {
     "data": {
      "text/html": [
       "<div>\n",
       "<style scoped>\n",
       "    .dataframe tbody tr th:only-of-type {\n",
       "        vertical-align: middle;\n",
       "    }\n",
       "\n",
       "    .dataframe tbody tr th {\n",
       "        vertical-align: top;\n",
       "    }\n",
       "\n",
       "    .dataframe thead th {\n",
       "        text-align: right;\n",
       "    }\n",
       "</style>\n",
       "<table border=\"1\" class=\"dataframe\">\n",
       "  <thead>\n",
       "    <tr style=\"text-align: right;\">\n",
       "      <th></th>\n",
       "      <th>noted_date</th>\n",
       "      <th>temp</th>\n",
       "      <th>out/in</th>\n",
       "      <th>hour</th>\n",
       "    </tr>\n",
       "  </thead>\n",
       "  <tbody>\n",
       "    <tr>\n",
       "      <th>0</th>\n",
       "      <td>2018-12-08 09:30:00</td>\n",
       "      <td>29</td>\n",
       "      <td>In</td>\n",
       "      <td>9</td>\n",
       "    </tr>\n",
       "    <tr>\n",
       "      <th>1</th>\n",
       "      <td>2018-12-08 09:30:00</td>\n",
       "      <td>29</td>\n",
       "      <td>In</td>\n",
       "      <td>9</td>\n",
       "    </tr>\n",
       "    <tr>\n",
       "      <th>2</th>\n",
       "      <td>2018-12-08 09:29:00</td>\n",
       "      <td>41</td>\n",
       "      <td>Out</td>\n",
       "      <td>9</td>\n",
       "    </tr>\n",
       "    <tr>\n",
       "      <th>3</th>\n",
       "      <td>2018-12-08 09:29:00</td>\n",
       "      <td>41</td>\n",
       "      <td>Out</td>\n",
       "      <td>9</td>\n",
       "    </tr>\n",
       "    <tr>\n",
       "      <th>4</th>\n",
       "      <td>2018-12-08 09:29:00</td>\n",
       "      <td>31</td>\n",
       "      <td>In</td>\n",
       "      <td>9</td>\n",
       "    </tr>\n",
       "    <tr>\n",
       "      <th>...</th>\n",
       "      <td>...</td>\n",
       "      <td>...</td>\n",
       "      <td>...</td>\n",
       "      <td>...</td>\n",
       "    </tr>\n",
       "    <tr>\n",
       "      <th>97601</th>\n",
       "      <td>2018-07-28 07:07:00</td>\n",
       "      <td>31</td>\n",
       "      <td>In</td>\n",
       "      <td>7</td>\n",
       "    </tr>\n",
       "    <tr>\n",
       "      <th>97602</th>\n",
       "      <td>2018-07-28 07:07:00</td>\n",
       "      <td>31</td>\n",
       "      <td>In</td>\n",
       "      <td>7</td>\n",
       "    </tr>\n",
       "    <tr>\n",
       "      <th>97603</th>\n",
       "      <td>2018-07-28 07:06:00</td>\n",
       "      <td>31</td>\n",
       "      <td>In</td>\n",
       "      <td>7</td>\n",
       "    </tr>\n",
       "    <tr>\n",
       "      <th>97604</th>\n",
       "      <td>2018-07-28 07:06:00</td>\n",
       "      <td>31</td>\n",
       "      <td>In</td>\n",
       "      <td>7</td>\n",
       "    </tr>\n",
       "    <tr>\n",
       "      <th>97605</th>\n",
       "      <td>2018-07-28 07:06:00</td>\n",
       "      <td>31</td>\n",
       "      <td>In</td>\n",
       "      <td>7</td>\n",
       "    </tr>\n",
       "  </tbody>\n",
       "</table>\n",
       "<p>97606 rows × 4 columns</p>\n",
       "</div>"
      ],
      "text/plain": [
       "               noted_date  temp out/in  hour\n",
       "0     2018-12-08 09:30:00    29     In     9\n",
       "1     2018-12-08 09:30:00    29     In     9\n",
       "2     2018-12-08 09:29:00    41    Out     9\n",
       "3     2018-12-08 09:29:00    41    Out     9\n",
       "4     2018-12-08 09:29:00    31     In     9\n",
       "...                   ...   ...    ...   ...\n",
       "97601 2018-07-28 07:07:00    31     In     7\n",
       "97602 2018-07-28 07:07:00    31     In     7\n",
       "97603 2018-07-28 07:06:00    31     In     7\n",
       "97604 2018-07-28 07:06:00    31     In     7\n",
       "97605 2018-07-28 07:06:00    31     In     7\n",
       "\n",
       "[97606 rows x 4 columns]"
      ]
     },
     "execution_count": 50,
     "metadata": {},
     "output_type": "execute_result"
    }
   ],
   "source": [
    "df2['hour'] = df2['noted_date'].dt.hour\n",
    "df2"
   ]
  },
  {
   "cell_type": "code",
   "execution_count": 51,
   "id": "6faf34e2-8929-48bb-8bb7-66551cf4ff87",
   "metadata": {},
   "outputs": [
    {
     "data": {
      "text/plain": [
       "hour\n",
       "0     34.158934\n",
       "1     34.538142\n",
       "2     33.804118\n",
       "3     33.926379\n",
       "4     35.485874\n",
       "5     37.397854\n",
       "6     37.452146\n",
       "7     35.924620\n",
       "8     34.931502\n",
       "9     35.535080\n",
       "10    35.391457\n",
       "11    35.082789\n",
       "12    35.572346\n",
       "13    35.828893\n",
       "14    35.423703\n",
       "15    35.458119\n",
       "16    34.240194\n",
       "17    35.135868\n",
       "18    34.569856\n",
       "19    33.284057\n",
       "20    34.367788\n",
       "21    34.795571\n",
       "22    33.454163\n",
       "23    35.409168\n",
       "Name: temp, dtype: float64"
      ]
     },
     "execution_count": 51,
     "metadata": {},
     "output_type": "execute_result"
    }
   ],
   "source": [
    "average_temp_hour = df2.groupby('hour')['temp'].mean()\n",
    "average_temp_hour"
   ]
  },
  {
   "cell_type": "code",
   "execution_count": 69,
   "id": "4a313562-08b1-43ee-b91a-bc813e5a9c04",
   "metadata": {},
   "outputs": [
    {
     "data": {
      "text/plain": [
       "51"
      ]
     },
     "execution_count": 69,
     "metadata": {},
     "output_type": "execute_result"
    }
   ],
   "source": [
    "max_temp_hour = df2.groupby('hour')['temp'].max().max()\n",
    "max_temp_hour"
   ]
  },
  {
   "cell_type": "code",
   "execution_count": 59,
   "id": "00e0ed49-621e-4b51-8d2a-68176831cda9",
   "metadata": {},
   "outputs": [
    {
     "data": {
      "text/html": [
       "<div>\n",
       "<style scoped>\n",
       "    .dataframe tbody tr th:only-of-type {\n",
       "        vertical-align: middle;\n",
       "    }\n",
       "\n",
       "    .dataframe tbody tr th {\n",
       "        vertical-align: top;\n",
       "    }\n",
       "\n",
       "    .dataframe thead th {\n",
       "        text-align: right;\n",
       "    }\n",
       "</style>\n",
       "<table border=\"1\" class=\"dataframe\">\n",
       "  <thead>\n",
       "    <tr style=\"text-align: right;\">\n",
       "      <th></th>\n",
       "      <th>noted_date</th>\n",
       "      <th>temp</th>\n",
       "      <th>out/in</th>\n",
       "      <th>hour</th>\n",
       "    </tr>\n",
       "  </thead>\n",
       "  <tbody>\n",
       "    <tr>\n",
       "      <th>0</th>\n",
       "      <td>2018-12-08 09:30:00</td>\n",
       "      <td>29</td>\n",
       "      <td>In</td>\n",
       "      <td>9</td>\n",
       "    </tr>\n",
       "    <tr>\n",
       "      <th>1</th>\n",
       "      <td>2018-12-08 09:30:00</td>\n",
       "      <td>29</td>\n",
       "      <td>In</td>\n",
       "      <td>9</td>\n",
       "    </tr>\n",
       "    <tr>\n",
       "      <th>4</th>\n",
       "      <td>2018-12-08 09:29:00</td>\n",
       "      <td>31</td>\n",
       "      <td>In</td>\n",
       "      <td>9</td>\n",
       "    </tr>\n",
       "    <tr>\n",
       "      <th>5</th>\n",
       "      <td>2018-12-08 09:29:00</td>\n",
       "      <td>31</td>\n",
       "      <td>In</td>\n",
       "      <td>9</td>\n",
       "    </tr>\n",
       "    <tr>\n",
       "      <th>6</th>\n",
       "      <td>2018-12-08 09:28:00</td>\n",
       "      <td>29</td>\n",
       "      <td>In</td>\n",
       "      <td>9</td>\n",
       "    </tr>\n",
       "    <tr>\n",
       "      <th>...</th>\n",
       "      <td>...</td>\n",
       "      <td>...</td>\n",
       "      <td>...</td>\n",
       "      <td>...</td>\n",
       "    </tr>\n",
       "    <tr>\n",
       "      <th>97601</th>\n",
       "      <td>2018-07-28 07:07:00</td>\n",
       "      <td>31</td>\n",
       "      <td>In</td>\n",
       "      <td>7</td>\n",
       "    </tr>\n",
       "    <tr>\n",
       "      <th>97602</th>\n",
       "      <td>2018-07-28 07:07:00</td>\n",
       "      <td>31</td>\n",
       "      <td>In</td>\n",
       "      <td>7</td>\n",
       "    </tr>\n",
       "    <tr>\n",
       "      <th>97603</th>\n",
       "      <td>2018-07-28 07:06:00</td>\n",
       "      <td>31</td>\n",
       "      <td>In</td>\n",
       "      <td>7</td>\n",
       "    </tr>\n",
       "    <tr>\n",
       "      <th>97604</th>\n",
       "      <td>2018-07-28 07:06:00</td>\n",
       "      <td>31</td>\n",
       "      <td>In</td>\n",
       "      <td>7</td>\n",
       "    </tr>\n",
       "    <tr>\n",
       "      <th>97605</th>\n",
       "      <td>2018-07-28 07:06:00</td>\n",
       "      <td>31</td>\n",
       "      <td>In</td>\n",
       "      <td>7</td>\n",
       "    </tr>\n",
       "  </tbody>\n",
       "</table>\n",
       "<p>20345 rows × 4 columns</p>\n",
       "</div>"
      ],
      "text/plain": [
       "               noted_date  temp out/in  hour\n",
       "0     2018-12-08 09:30:00    29     In     9\n",
       "1     2018-12-08 09:30:00    29     In     9\n",
       "4     2018-12-08 09:29:00    31     In     9\n",
       "5     2018-12-08 09:29:00    31     In     9\n",
       "6     2018-12-08 09:28:00    29     In     9\n",
       "...                   ...   ...    ...   ...\n",
       "97601 2018-07-28 07:07:00    31     In     7\n",
       "97602 2018-07-28 07:07:00    31     In     7\n",
       "97603 2018-07-28 07:06:00    31     In     7\n",
       "97604 2018-07-28 07:06:00    31     In     7\n",
       "97605 2018-07-28 07:06:00    31     In     7\n",
       "\n",
       "[20345 rows x 4 columns]"
      ]
     },
     "execution_count": 59,
     "metadata": {},
     "output_type": "execute_result"
    }
   ],
   "source": [
    "in_side = df2[df2['out/in'] == 'In']\n",
    "in_side"
   ]
  },
  {
   "cell_type": "code",
   "execution_count": 60,
   "id": "b536ecd8-7a62-4e2a-af2d-e98d2f74cc9e",
   "metadata": {},
   "outputs": [
    {
     "data": {
      "text/html": [
       "<div>\n",
       "<style scoped>\n",
       "    .dataframe tbody tr th:only-of-type {\n",
       "        vertical-align: middle;\n",
       "    }\n",
       "\n",
       "    .dataframe tbody tr th {\n",
       "        vertical-align: top;\n",
       "    }\n",
       "\n",
       "    .dataframe thead th {\n",
       "        text-align: right;\n",
       "    }\n",
       "</style>\n",
       "<table border=\"1\" class=\"dataframe\">\n",
       "  <thead>\n",
       "    <tr style=\"text-align: right;\">\n",
       "      <th></th>\n",
       "      <th>noted_date</th>\n",
       "      <th>temp</th>\n",
       "      <th>out/in</th>\n",
       "      <th>hour</th>\n",
       "    </tr>\n",
       "  </thead>\n",
       "  <tbody>\n",
       "    <tr>\n",
       "      <th>2</th>\n",
       "      <td>2018-12-08 09:29:00</td>\n",
       "      <td>41</td>\n",
       "      <td>Out</td>\n",
       "      <td>9</td>\n",
       "    </tr>\n",
       "    <tr>\n",
       "      <th>3</th>\n",
       "      <td>2018-12-08 09:29:00</td>\n",
       "      <td>41</td>\n",
       "      <td>Out</td>\n",
       "      <td>9</td>\n",
       "    </tr>\n",
       "    <tr>\n",
       "      <th>10</th>\n",
       "      <td>2018-12-08 09:25:00</td>\n",
       "      <td>42</td>\n",
       "      <td>Out</td>\n",
       "      <td>9</td>\n",
       "    </tr>\n",
       "    <tr>\n",
       "      <th>11</th>\n",
       "      <td>2018-12-08 09:25:00</td>\n",
       "      <td>42</td>\n",
       "      <td>Out</td>\n",
       "      <td>9</td>\n",
       "    </tr>\n",
       "    <tr>\n",
       "      <th>16</th>\n",
       "      <td>2018-12-08 09:21:00</td>\n",
       "      <td>41</td>\n",
       "      <td>Out</td>\n",
       "      <td>9</td>\n",
       "    </tr>\n",
       "    <tr>\n",
       "      <th>...</th>\n",
       "      <td>...</td>\n",
       "      <td>...</td>\n",
       "      <td>...</td>\n",
       "      <td>...</td>\n",
       "    </tr>\n",
       "    <tr>\n",
       "      <th>97587</th>\n",
       "      <td>2018-07-28 07:07:00</td>\n",
       "      <td>32</td>\n",
       "      <td>Out</td>\n",
       "      <td>7</td>\n",
       "    </tr>\n",
       "    <tr>\n",
       "      <th>97588</th>\n",
       "      <td>2018-07-28 07:07:00</td>\n",
       "      <td>32</td>\n",
       "      <td>Out</td>\n",
       "      <td>7</td>\n",
       "    </tr>\n",
       "    <tr>\n",
       "      <th>97594</th>\n",
       "      <td>2018-07-28 07:07:00</td>\n",
       "      <td>32</td>\n",
       "      <td>Out</td>\n",
       "      <td>7</td>\n",
       "    </tr>\n",
       "    <tr>\n",
       "      <th>97596</th>\n",
       "      <td>2018-07-28 07:07:00</td>\n",
       "      <td>32</td>\n",
       "      <td>Out</td>\n",
       "      <td>7</td>\n",
       "    </tr>\n",
       "    <tr>\n",
       "      <th>97599</th>\n",
       "      <td>2018-07-28 07:07:00</td>\n",
       "      <td>32</td>\n",
       "      <td>Out</td>\n",
       "      <td>7</td>\n",
       "    </tr>\n",
       "  </tbody>\n",
       "</table>\n",
       "<p>77261 rows × 4 columns</p>\n",
       "</div>"
      ],
      "text/plain": [
       "               noted_date  temp out/in  hour\n",
       "2     2018-12-08 09:29:00    41    Out     9\n",
       "3     2018-12-08 09:29:00    41    Out     9\n",
       "10    2018-12-08 09:25:00    42    Out     9\n",
       "11    2018-12-08 09:25:00    42    Out     9\n",
       "16    2018-12-08 09:21:00    41    Out     9\n",
       "...                   ...   ...    ...   ...\n",
       "97587 2018-07-28 07:07:00    32    Out     7\n",
       "97588 2018-07-28 07:07:00    32    Out     7\n",
       "97594 2018-07-28 07:07:00    32    Out     7\n",
       "97596 2018-07-28 07:07:00    32    Out     7\n",
       "97599 2018-07-28 07:07:00    32    Out     7\n",
       "\n",
       "[77261 rows x 4 columns]"
      ]
     },
     "execution_count": 60,
     "metadata": {},
     "output_type": "execute_result"
    }
   ],
   "source": [
    "out_side = df2[df2['out/in'] == 'Out']\n",
    "out_side"
   ]
  },
  {
   "cell_type": "code",
   "execution_count": 61,
   "id": "9b854731-e4ab-4fe0-bfee-90063dee52d6",
   "metadata": {},
   "outputs": [
    {
     "data": {
      "text/plain": [
       "41"
      ]
     },
     "execution_count": 61,
     "metadata": {},
     "output_type": "execute_result"
    }
   ],
   "source": [
    "in_max_temp = in_side['temp'].max()\n",
    "in_max_temp"
   ]
  },
  {
   "cell_type": "code",
   "execution_count": 63,
   "id": "9578a11d-e175-4eb9-afb6-0e9b80157a05",
   "metadata": {},
   "outputs": [
    {
     "data": {
      "text/plain": [
       "21"
      ]
     },
     "execution_count": 63,
     "metadata": {},
     "output_type": "execute_result"
    }
   ],
   "source": [
    "in_min_temp = in_side['temp'].min()\n",
    "in_min_temp"
   ]
  },
  {
   "cell_type": "code",
   "execution_count": 65,
   "id": "41fb8300-c4e3-4dd1-81fc-1a4e1b591de7",
   "metadata": {},
   "outputs": [
    {
     "data": {
      "text/plain": [
       "30.4539198820349"
      ]
     },
     "execution_count": 65,
     "metadata": {},
     "output_type": "execute_result"
    }
   ],
   "source": [
    "in_avg_temp = in_side['temp'].mean()\n",
    "in_avg_temp"
   ]
  },
  {
   "cell_type": "code",
   "execution_count": 66,
   "id": "54bdc2b3-a7c8-4b8a-97f2-99e7de088115",
   "metadata": {},
   "outputs": [
    {
     "data": {
      "text/plain": [
       "51"
      ]
     },
     "execution_count": 66,
     "metadata": {},
     "output_type": "execute_result"
    }
   ],
   "source": [
    "out_max_temp = out_side['temp'].max()\n",
    "out_max_temp"
   ]
  },
  {
   "cell_type": "code",
   "execution_count": 67,
   "id": "60551342-67ab-4a26-bbd0-cb84491bad86",
   "metadata": {},
   "outputs": [
    {
     "data": {
      "text/plain": [
       "24"
      ]
     },
     "execution_count": 67,
     "metadata": {},
     "output_type": "execute_result"
    }
   ],
   "source": [
    "out_min_temp = out_side['temp'].min()\n",
    "out_min_temp"
   ]
  },
  {
   "cell_type": "code",
   "execution_count": 68,
   "id": "edcf32b1-eacd-467e-93fb-1462192981f3",
   "metadata": {},
   "outputs": [
    {
     "data": {
      "text/plain": [
       "36.265243784056636"
      ]
     },
     "execution_count": 68,
     "metadata": {},
     "output_type": "execute_result"
    }
   ],
   "source": [
    "out_avg_temp = out_side['temp'].mean()\n",
    "out_avg_temp"
   ]
  },
  {
   "cell_type": "code",
   "execution_count": 23,
   "id": "0dc9bca0-2116-4c18-a2f2-d85079272230",
   "metadata": {},
   "outputs": [],
   "source": [
    "#check the data with graph\n",
    "import matplotlib.pyplot as plt\n",
    "import seaborn as sns"
   ]
  },
  {
   "cell_type": "code",
   "execution_count": null,
   "id": "68c26943-1c3c-454b-a8f6-aaf9bd54a3f4",
   "metadata": {},
   "outputs": [],
   "source": []
  },
  {
   "cell_type": "code",
   "execution_count": 26,
   "id": "a258fa8b-69dc-410d-a914-4f7760236409",
   "metadata": {},
   "outputs": [
    {
     "data": {
      "text/plain": [
       "<Axes: xlabel='noted_date', ylabel='temp'>"
      ]
     },
     "execution_count": 26,
     "metadata": {},
     "output_type": "execute_result"
    },
    {
     "data": {
      "image/png": "[encoded data removed]",
      "text/plain": [
       "<Figure size 640x480 with 1 Axes>"
      ]
     },
     "metadata": {},
     "output_type": "display_data"
    }
   ],
   "source": [
    "sns.scatterplot(data=df2,x ='noted_date' , y ='temp',hue= 'out/in' )\n",
    "#here we can see temp outside is more than inside"
   ]
  },
  {
   "cell_type": "code",
   "execution_count": 31,
   "id": "01bad3fa-6544-42ed-9d8b-b97937d1c632",
   "metadata": {},
   "outputs": [
    {
     "data": {
      "text/plain": [
       "out/in\n",
       "Out    77261\n",
       "In     20345\n",
       "Name: count, dtype: int64"
      ]
     },
     "execution_count": 31,
     "metadata": {},
     "output_type": "execute_result"
    }
   ],
   "source": [
    "percentage_in_out = df2['out/in'].value_counts()\n",
    "percentage_in_out"
   ]
  },
  {
   "cell_type": "code",
   "execution_count": 41,
   "id": "0905eb30-95e5-4b7f-9e62-f120e3cc1b24",
   "metadata": {},
   "outputs": [
    {
     "data": {
      "image/png": "[encoded data removed]",
      "text/plain": [
       "<Figure size 800x800 with 1 Axes>"
      ]
     },
     "metadata": {},
     "output_type": "display_data"
    }
   ],
   "source": [
    "plt.figure(figsize =(8,8))\n",
    "plt.pie(percentage_in_out,labels=percentage_in_out.index, autopct='%1.1f%%',startangle=90 )\n",
    "plt.title('The percentage of in and out')\n",
    "plt.show()"
   ]
  },
  {
   "cell_type": "code",
   "execution_count": 32,
   "id": "8ac9ed2d-cf54-4b56-97d3-b3c002415f34",
   "metadata": {},
   "outputs": [
    {
     "data": {
      "text/plain": [
       "Text(0.5, 1.0, 'percentage of data taken out and in')"
      ]
     },
     "execution_count": 32,
     "metadata": {},
     "output_type": "execute_result"
    },
    {
     "data": {
      "image/png": "[encoded data removed]",
      "text/plain": [
       "<Figure size 640x480 with 1 Axes>"
      ]
     },
     "metadata": {},
     "output_type": "display_data"
    }
   ],
   "source": [
    "sns.countplot(x = 'out/in',data = df2)\n",
    "plt.title('percentage of data taken out and in')"
   ]
  },
  {
   "cell_type": "code",
   "execution_count": 47,
   "id": "9aef417a-6b8b-4806-a4ce-cd92df031870",
   "metadata": {},
   "outputs": [
    {
     "name": "stderr",
     "output_type": "stream",
     "text": [
      "C:\\Anaconda3\\Lib\\site-packages\\seaborn\\_oldcore.py:1119: FutureWarning: use_inf_as_na option is deprecated and will be removed in a future version. Convert inf values to NaN before operating instead.\n",
      "  with pd.option_context('mode.use_inf_as_na', True):\n"
     ]
    },
    {
     "data": {
      "text/plain": [
       "<Axes: xlabel='temp', ylabel='Count'>"
      ]
     },
     "execution_count": 47,
     "metadata": {},
     "output_type": "execute_result"
    },
    {
     "data": {
      "image/png": "[encoded data removed]",
      "text/plain": [
       "<Figure size 640x480 with 1 Axes>"
      ]
     },
     "metadata": {},
     "output_type": "display_data"
    }
   ],
   "source": [
    "sns.histplot(data = df2,x = 'temp')"
   ]
  },
  {
   "cell_type": "code",
   "execution_count": null,
   "id": "28dc0388-3413-4324-b6b3-a99118414c8e",
   "metadata": {},
   "outputs": [],
   "source": [
    "\"\"\"\n",
    "Conclusion-\n",
    "in this data we saw that -\n",
    "1. max temp 'OUT' - 51 , max temp 'IN' - 41\n",
    "2. min temp 'OUT' - 24 , min temp 'IN' - 21\n",
    "3. avg temp 'OUT' - 36.2 , avg temp 'IN' - 30.4\n",
    "4. sample taken of out : in - 79.2 : 21.8\n",
    "5. the average temperature in the day is between 34 to 37\n",
    "\n",
    "\n",
    "\"\"\""
   ]
  },
  {
   "cell_type": "code",
   "execution_count": 45,
   "id": "3743075a-f231-41c8-a58f-b6e80ede04a9",
   "metadata": {},
   "outputs": [
    {
     "data": {
      "text/html": [
       "<div>\n",
       "<style scoped>\n",
       "    .dataframe tbody tr th:only-of-type {\n",
       "        vertical-align: middle;\n",
       "    }\n",
       "\n",
       "    .dataframe tbody tr th {\n",
       "        vertical-align: top;\n",
       "    }\n",
       "\n",
       "    .dataframe thead th {\n",
       "        text-align: right;\n",
       "    }\n",
       "</style>\n",
       "<table border=\"1\" class=\"dataframe\">\n",
       "  <thead>\n",
       "    <tr style=\"text-align: right;\">\n",
       "      <th></th>\n",
       "      <th>noted_date</th>\n",
       "      <th>temp</th>\n",
       "      <th>out/in</th>\n",
       "    </tr>\n",
       "  </thead>\n",
       "  <tbody>\n",
       "    <tr>\n",
       "      <th>0</th>\n",
       "      <td>2018-12-08 09:30:00</td>\n",
       "      <td>29</td>\n",
       "      <td>In</td>\n",
       "    </tr>\n",
       "    <tr>\n",
       "      <th>1</th>\n",
       "      <td>2018-12-08 09:30:00</td>\n",
       "      <td>29</td>\n",
       "      <td>In</td>\n",
       "    </tr>\n",
       "    <tr>\n",
       "      <th>2</th>\n",
       "      <td>2018-12-08 09:29:00</td>\n",
       "      <td>41</td>\n",
       "      <td>Out</td>\n",
       "    </tr>\n",
       "    <tr>\n",
       "      <th>3</th>\n",
       "      <td>2018-12-08 09:29:00</td>\n",
       "      <td>41</td>\n",
       "      <td>Out</td>\n",
       "    </tr>\n",
       "    <tr>\n",
       "      <th>4</th>\n",
       "      <td>2018-12-08 09:29:00</td>\n",
       "      <td>31</td>\n",
       "      <td>In</td>\n",
       "    </tr>\n",
       "    <tr>\n",
       "      <th>...</th>\n",
       "      <td>...</td>\n",
       "      <td>...</td>\n",
       "      <td>...</td>\n",
       "    </tr>\n",
       "    <tr>\n",
       "      <th>97601</th>\n",
       "      <td>2018-07-28 07:07:00</td>\n",
       "      <td>31</td>\n",
       "      <td>In</td>\n",
       "    </tr>\n",
       "    <tr>\n",
       "      <th>97602</th>\n",
       "      <td>2018-07-28 07:07:00</td>\n",
       "      <td>31</td>\n",
       "      <td>In</td>\n",
       "    </tr>\n",
       "    <tr>\n",
       "      <th>97603</th>\n",
       "      <td>2018-07-28 07:06:00</td>\n",
       "      <td>31</td>\n",
       "      <td>In</td>\n",
       "    </tr>\n",
       "    <tr>\n",
       "      <th>97604</th>\n",
       "      <td>2018-07-28 07:06:00</td>\n",
       "      <td>31</td>\n",
       "      <td>In</td>\n",
       "    </tr>\n",
       "    <tr>\n",
       "      <th>97605</th>\n",
       "      <td>2018-07-28 07:06:00</td>\n",
       "      <td>31</td>\n",
       "      <td>In</td>\n",
       "    </tr>\n",
       "  </tbody>\n",
       "</table>\n",
       "<p>97606 rows × 3 columns</p>\n",
       "</div>"
      ],
      "text/plain": [
       "               noted_date  temp out/in\n",
       "0     2018-12-08 09:30:00    29     In\n",
       "1     2018-12-08 09:30:00    29     In\n",
       "2     2018-12-08 09:29:00    41    Out\n",
       "3     2018-12-08 09:29:00    41    Out\n",
       "4     2018-12-08 09:29:00    31     In\n",
       "...                   ...   ...    ...\n",
       "97601 2018-07-28 07:07:00    31     In\n",
       "97602 2018-07-28 07:07:00    31     In\n",
       "97603 2018-07-28 07:06:00    31     In\n",
       "97604 2018-07-28 07:06:00    31     In\n",
       "97605 2018-07-28 07:06:00    31     In\n",
       "\n",
       "[97606 rows x 3 columns]"
      ]
     },
     "execution_count": 45,
     "metadata": {},
     "output_type": "execute_result"
    }
   ],
   "source": [
    "df2"
   ]
  },
  {
   "cell_type": "code",
   "execution_count": 48,
   "id": "8ed09726-9c85-4e18-bb00-89fd6bc36421",
   "metadata": {},
   "outputs": [
    {
     "data": {
      "text/plain": [
       "temp\n",
       "39    10203\n",
       "28     8831\n",
       "29     7922\n",
       "40     7798\n",
       "31     7236\n",
       "30     6614\n",
       "37     5723\n",
       "32     5408\n",
       "27     4631\n",
       "41     4354\n",
       "36     3965\n",
       "38     3867\n",
       "42     3447\n",
       "33     3437\n",
       "34     2613\n",
       "43     2004\n",
       "44     1774\n",
       "35     1582\n",
       "45     1508\n",
       "46     1201\n",
       "47     1044\n",
       "48      971\n",
       "26      699\n",
       "49      401\n",
       "25      224\n",
       "24       66\n",
       "50       55\n",
       "22       19\n",
       "23        5\n",
       "21        2\n",
       "51        2\n",
       "Name: count, dtype: int64"
      ]
     },
     "execution_count": 48,
     "metadata": {},
     "output_type": "execute_result"
    }
   ],
   "source": [
    "df2.temp.value_counts()"
   ]
  },
  {
   "cell_type": "code",
   "execution_count": null,
   "id": "a5068534-64c0-47d5-a98a-c6015232576c",
   "metadata": {},
   "outputs": [],
   "source": []
  },
  {
   "cell_type": "code",
   "execution_count": null,
   "id": "f8eaa46d-6d41-46d9-bf0a-2aed7516ecff",
   "metadata": {},
   "outputs": [],
   "source": []
  },
  {
   "cell_type": "code",
   "execution_count": null,
   "id": "40c0471f-3807-4229-9c0c-a259728b8883",
   "metadata": {},
   "outputs": [],
   "source": []
  },
  {
   "cell_type": "code",
   "execution_count": null,
   "id": "fec122bb-3b6a-4f66-984d-cd989d3ab143",
   "metadata": {},
   "outputs": [],
   "source": []
  },
  {
   "cell_type": "code",
   "execution_count": null,
   "id": "2baa8c8f-a4cc-4323-bfb1-6f59b20403af",
   "metadata": {},
   "outputs": [],
   "source": []
  },
  {
   "cell_type": "code",
   "execution_count": null,
   "id": "b909c353-c4c2-443d-8b1e-6a3d6c0e52d4",
   "metadata": {},
   "outputs": [],
   "source": []
  }
 ],
 "metadata": {
  "kernelspec": {
   "display_name": "Python 3 (ipykernel)",
   "language": "python",
   "name": "python3"
  },
  "language_info": {
   "codemirror_mode": {
    "name": "ipython",
    "version": 3
   },
   "file_extension": ".py",
   "mimetype": "text/x-python",
   "name": "python",
   "nbconvert_exporter": "python",
   "pygments_lexer": "ipython3",
   "version": "3.11.7"
  }
 },
 "nbformat": 4,
 "nbformat_minor": 5
}
